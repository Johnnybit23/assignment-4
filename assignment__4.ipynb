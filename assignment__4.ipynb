{
 "cells": [
  {
   "cell_type": "markdown",
   "metadata": {},
   "source": [
    "# Assignment 4 "
   ]
  },
  {
   "cell_type": "markdown",
   "metadata": {},
   "source": [
    "# 1.what exactly is []?\n",
    "\n",
    "# ans--> The empty list represented by [] is a list that contains\n",
    "# no items. "
   ]
  },
  {
   "cell_type": "code",
   "execution_count": 6,
   "metadata": {},
   "outputs": [
    {
     "data": {
      "text/plain": [
       "list"
      ]
     },
     "execution_count": 6,
     "metadata": {},
     "output_type": "execute_result"
    }
   ],
   "source": [
    "a=[] \n",
    "type(a) # emptylist"
   ]
  },
  {
   "cell_type": "code",
   "execution_count": 9,
   "metadata": {},
   "outputs": [
    {
     "data": {
      "text/plain": [
       "list"
      ]
     },
     "execution_count": 9,
     "metadata": {},
     "output_type": "execute_result"
    }
   ],
   "source": [
    "b=[2,3]\n",
    "type(b)"
   ]
  },
  {
   "cell_type": "markdown",
   "metadata": {},
   "source": [
    "# 2.In a list of values stored in a variable called spam,\n",
    "#  how would you assign the value 'hello' as the third value? \n",
    "# (Assume [2, 4, 6, 8, 10] are in spam.)\n",
    "\n",
    "# ans-->  A.T.Q= we have to assign \"hello\" in the list of spam in third value.\n",
    "# here has two way \n",
    "# spam[2]=\"hello\" because python follows 0 based indexing \n",
    "# when it is count from positive way.[>>0,1,2,3]\n",
    "# \n",
    "# vise versa it start with -1 ---> so in the third value will be\n",
    "# spam[-3]=\"hello\"  [<<-1,-2,-3]\n",
    "# example-->"
   ]
  },
  {
   "cell_type": "code",
   "execution_count": 14,
   "metadata": {},
   "outputs": [
    {
     "data": {
      "text/plain": [
       "[2, 4, 'hello', 8, 10]"
      ]
     },
     "execution_count": 14,
     "metadata": {},
     "output_type": "execute_result"
    }
   ],
   "source": [
    "# positive way\n",
    "spam=[2,4,6,8,10]\n",
    "spam[2]=\"hello\"\n",
    "spam"
   ]
  },
  {
   "cell_type": "code",
   "execution_count": 16,
   "metadata": {},
   "outputs": [
    {
     "data": {
      "text/plain": [
       "[2, 4, 'hello', 8, 10]"
      ]
     },
     "execution_count": 16,
     "metadata": {},
     "output_type": "execute_result"
    }
   ],
   "source": [
    "# vise versa in negative way\n",
    "spam=[2,4,6,8,10]\n",
    "spam[-3]=\"hello\"\n",
    "spam"
   ]
  },
  {
   "cell_type": "markdown",
   "metadata": {},
   "source": [
    "# let's pretend the spam includes the list[\"a\",\"b\",\"c\",\"d\"]\n",
    "# what is the value of \n",
    "# spam[int(int('3'*2)//11)]\n"
   ]
  },
  {
   "cell_type": "code",
   "execution_count": 17,
   "metadata": {},
   "outputs": [
    {
     "name": "stdout",
     "output_type": "stream",
     "text": [
      "d\n"
     ]
    }
   ],
   "source": [
    "spam=['a','b','c','d']\n",
    "print(spam[int(int('3'*2)//11)])"
   ]
  },
  {
   "cell_type": "markdown",
   "metadata": {},
   "source": [
    "# is this list position of \"d\"-->3\n",
    "#  '3'*2=33\n",
    "# so string--> '33' passing through (int) before divided by 11\n",
    "# '33' coverted in 33 and divided by 11 it show 3\n",
    "# so spam[3]= \"d\" "
   ]
  },
  {
   "cell_type": "markdown",
   "metadata": {},
   "source": [
    "# 4. What is the value of spam[-1]?\n",
    "# ans--> 'd'"
   ]
  },
  {
   "cell_type": "code",
   "execution_count": 18,
   "metadata": {},
   "outputs": [
    {
     "data": {
      "text/plain": [
       "'d'"
      ]
     },
     "execution_count": 18,
     "metadata": {},
     "output_type": "execute_result"
    }
   ],
   "source": [
    "spam=['a','b','c','d']\n",
    "spam[-1]"
   ]
  },
  {
   "cell_type": "markdown",
   "metadata": {},
   "source": [
    "# 5.What is the value of spam[:2]?\n",
    "# ans--> spam[:2] returns all elements in the list spam from 0 to 2 without index number 2 element.\n"
   ]
  },
  {
   "cell_type": "code",
   "execution_count": 19,
   "metadata": {},
   "outputs": [
    {
     "data": {
      "text/plain": [
       "['a', 'b']"
      ]
     },
     "execution_count": 19,
     "metadata": {},
     "output_type": "execute_result"
    }
   ],
   "source": [
    "spam=['a','b','c','d']\n",
    "spam[:2]"
   ]
  },
  {
   "cell_type": "markdown",
   "metadata": {},
   "source": [
    "# Let's pretend bacon has the\n",
    "# list [3.14,'cat',11,'cat',True] for the next three question."
   ]
  },
  {
   "cell_type": "markdown",
   "metadata": {},
   "source": [
    "# 6. What is the value of bacon.index('cat')?\n",
    "\n",
    "# ans--> 1"
   ]
  },
  {
   "cell_type": "code",
   "execution_count": 20,
   "metadata": {},
   "outputs": [
    {
     "data": {
      "text/plain": [
       "1"
      ]
     },
     "execution_count": 20,
     "metadata": {},
     "output_type": "execute_result"
    }
   ],
   "source": [
    "bacon=[3.14,'cat',11,'cat',True]\n",
    "bacon.index('cat')"
   ]
  },
  {
   "cell_type": "markdown",
   "metadata": {},
   "source": [
    "# 7. How does bacon.append(99) \n",
    "# change the look of the list value in bacon?"
   ]
  },
  {
   "cell_type": "code",
   "execution_count": 21,
   "metadata": {},
   "outputs": [
    {
     "name": "stdout",
     "output_type": "stream",
     "text": [
      "[3.14, 'cat', 11, 'cat', True, 99]\n"
     ]
    }
   ],
   "source": [
    "bacon=[3.14,'cat',11,'cat',True]\n",
    "bacon.append(99)\n",
    "print(bacon)"
   ]
  },
  {
   "cell_type": "markdown",
   "metadata": {},
   "source": [
    "# 8. How does bacon.remove('cat') change the look of the list in bacon?"
   ]
  },
  {
   "cell_type": "code",
   "execution_count": 24,
   "metadata": {},
   "outputs": [
    {
     "name": "stdout",
     "output_type": "stream",
     "text": [
      "[3.14, 11, 'cat', True, 99]\n",
      "[3.14, 11, True, 99]\n"
     ]
    }
   ],
   "source": [
    "print(bacon)\n",
    "bacon.remove('cat')\n",
    "print(bacon)"
   ]
  },
  {
   "cell_type": "markdown",
   "metadata": {},
   "source": [
    "# 9.what are the list concatenation and list replication operations?\n",
    "\n",
    "# ans---> The operator for list concatination is (+) ,\n",
    "# and the operator for replication is (*).\n",
    "\n",
    "# example-->"
   ]
  },
  {
   "cell_type": "code",
   "execution_count": 36,
   "metadata": {},
   "outputs": [
    {
     "name": "stdout",
     "output_type": "stream",
     "text": [
      "<class 'list'>\n",
      "<class 'list'>\n",
      "['johnny', 'swagata', 'dog', 'cat'] --->concatination\n",
      "['johnny', 'swagata', 'johnny', 'swagata'] --> replication\n"
     ]
    }
   ],
   "source": [
    "dam=[\"johnny\", \"swagata\"]\n",
    "jam=[\"dog\",\"cat\"]\n",
    "print(type(dam))\n",
    "print(type(b))\n",
    "# concatination\n",
    "print(dam+jam, \"--->concatination\")\n",
    "# replication\n",
    "print(dam*2 , \"--> replication\")"
   ]
  },
  {
   "cell_type": "markdown",
   "metadata": {},
   "source": [
    "# 10. what is the difference between the list method append() and insert()?\n",
    "\n",
    "# ans--> \n",
    "# append= append will add values to the end of a list.\n",
    "# insert = insert will add values any index no. position of the list  "
   ]
  },
  {
   "cell_type": "code",
   "execution_count": 43,
   "metadata": {},
   "outputs": [
    {
     "name": "stdout",
     "output_type": "stream",
     "text": [
      "[96, 56, 78, 23, 'johnny']\n",
      "[96, 56, 78, 'danny', 23, 'johnny']\n"
     ]
    }
   ],
   "source": [
    "ari=[96,56,78,23]\n",
    "ari.append(\"johnny\" )\n",
    "print(ari)\n",
    "ari.insert(3,\"danny\")\n",
    "print(ari)"
   ]
  },
  {
   "cell_type": "markdown",
   "metadata": {},
   "source": [
    "# 11.What are the two methods for removing items from a list?\n",
    "\n",
    "# ans--> two method\n",
    "# 1. partiucular variables--->1.remove(variable name) 2. pop(index no) 3.del(incex:) \n",
    "# 2. whole list - clear"
   ]
  },
  {
   "cell_type": "code",
   "execution_count": 49,
   "metadata": {},
   "outputs": [
    {
     "name": "stdout",
     "output_type": "stream",
     "text": [
      "['k', 'f', 'h', 'u', 'l', 't', 'df', 'kl', 'tr'] --->after removing method\n",
      "['f', 'h', 'u', 'l', 't', 'df', 'kl', 'tr'] --> after POP method\n",
      "['u', 'l', 't', 'df', 'kl', 'tr'] ---> after dell method\n",
      "[]  after using clear method\n"
     ]
    }
   ],
   "source": [
    "k=[\"jo\",'k','f','h','u','l','t','df','kl','tr']\n",
    "k.remove('jo')\n",
    "print(k,\"--->after removing method\")\n",
    "\n",
    "k.pop(0)\n",
    "print(k,\"--> after POP method\")\n",
    "\n",
    "del k[0:2]\n",
    "print(k,\"---> after dell method\")\n",
    "\n",
    "k.clear()\n",
    "print(k,( \" after using clear method\"))"
   ]
  },
  {
   "cell_type": "markdown",
   "metadata": {},
   "source": [
    "# 12.12. Describe how list values and string values are identical.\n",
    "\n",
    "# ans-->\n",
    "#  Both lists and strings can be passed to len() function,\n",
    "# have indexes and slices, be used in for loops,\n",
    "# both can be concatenated or replicated"
   ]
  },
  {
   "cell_type": "code",
   "execution_count": null,
   "metadata": {},
   "outputs": [],
   "source": []
  },
  {
   "cell_type": "markdown",
   "metadata": {},
   "source": [
    "# 13. Describe how list values and string values are identical.\n",
    "\n",
    "# ans-->\n",
    "# 1.Lists are Mutable but Tuples are Immutable.\n",
    "# they can have values added, changed.but Tuples are Immutable then the tuple values cannot be changed at all.\n",
    "# Also, tuples are represented using parentheses, (), while lists use the square brackets, []."
   ]
  },
  {
   "cell_type": "markdown",
   "metadata": {},
   "source": [
    "# 14. How do you type a tuple value that only contains the integer 42?"
   ]
  },
  {
   "cell_type": "code",
   "execution_count": 50,
   "metadata": {},
   "outputs": [
    {
     "name": "stdout",
     "output_type": "stream",
     "text": [
      "<class 'int'>\n",
      "<class 'tuple'>\n"
     ]
    }
   ],
   "source": [
    "tup=(42)\n",
    "print(type(tup))\n",
    "tup1=(42,)\n",
    "print(type(tup1))"
   ]
  },
  {
   "cell_type": "markdown",
   "metadata": {},
   "source": [
    "# 15. How do you get a list value's tuple form? \n",
    "# How do you get a tuple value's list form?\n",
    "\n",
    "# ans--> The tuple() and list() functions,\n",
    "#  respectively are used to convert a list to tuple and vice versa"
   ]
  },
  {
   "cell_type": "code",
   "execution_count": 59,
   "metadata": {},
   "outputs": [
    {
     "name": "stdout",
     "output_type": "stream",
     "text": [
      "<class 'list'>\n",
      "('jim', 'Wi', 'tor')\n",
      "<class 'tuple'>\n",
      "<class 'tuple'>\n",
      "[2, 3, 4, 5]\n",
      "<class 'list'>\n"
     ]
    }
   ],
   "source": [
    "##1\n",
    "da = ['jim', 'Wi', 'tor']\n",
    "print(type(da))\n",
    "dn = tuple(i for i in da)\n",
    "print(dn)\n",
    "print(type(dn))\n",
    "\n",
    "#2 \n",
    "value = (2,3,4,5)\n",
    "print(type(value))\n",
    "zig = list(value)\n",
    "print(zig)\n",
    "print(type(zig))"
   ]
  },
  {
   "cell_type": "markdown",
   "metadata": {},
   "source": [
    "# 16. Variables that \"contain\" list values are not necessarily lists themselves. \n",
    "# Instead, what do they contain?\n",
    "\n",
    "# ans--> They contain references to list values"
   ]
  },
  {
   "cell_type": "markdown",
   "metadata": {},
   "source": [
    "# 17. How do you distinguish between copy.copy() and copy.deepcopy()?\n",
    "\n",
    "# ans--> copy.copy() function will do a shallow copy of a list, while the copy.deepcopy() function will do a deep copy of a list. That is, \n",
    "# only copy.deepcopy() will duplicate any lists inside the list."
   ]
  },
  {
   "cell_type": "markdown",
   "metadata": {},
   "source": []
  }
 ],
 "metadata": {
  "kernelspec": {
   "display_name": "Python 3.10.5 64-bit",
   "language": "python",
   "name": "python3"
  },
  "language_info": {
   "codemirror_mode": {
    "name": "ipython",
    "version": 3
   },
   "file_extension": ".py",
   "mimetype": "text/x-python",
   "name": "python",
   "nbconvert_exporter": "python",
   "pygments_lexer": "ipython3",
   "version": "3.10.5"
  },
  "orig_nbformat": 4,
  "vscode": {
   "interpreter": {
    "hash": "a341db7a012f92aefc773708acc5fe0d73092dddc26a1b4c6dd24e06bc47f6cf"
   }
  }
 },
 "nbformat": 4,
 "nbformat_minor": 2
}
